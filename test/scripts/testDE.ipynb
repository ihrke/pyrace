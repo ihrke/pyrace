{
 "metadata": {
  "name": ""
 },
 "nbformat": 3,
 "nbformat_minor": 0,
 "worksheets": [
  {
   "cells": [
    {
     "cell_type": "code",
     "collapsed": false,
     "input": [
      "import numpy as np\n",
      "import math\n",
      "import pyrace\n",
      "\n",
      "class Rastrigin:\n",
      "    \"\"\"Defines the Rastrigin benchmark problem.\n",
      "    \n",
      "    This class defines the Rastrigin global optimization problem. This \n",
      "    is a highly multimodal minimization problem where the local minima\n",
      "    are regularly distributed. It is defined as follows:\n",
      "    \n",
      "    .. math::\n",
      "    \n",
      "        f(x) = \\sum_{i=1}^n (x_i^2 - 10\\cos(2\\pi x_i) + 10)\n",
      "    \n",
      "    Here, :math:`n` represents the number of dimensions and :math:`x_i \\in [-5.12, 5.12]` for :math:`i=1,...,n`.\n",
      "    \n",
      "    .. figure:: _static/image12271.jpg\n",
      "        :alt: Rastrigin function\n",
      "        :align: center\n",
      "        \n",
      "        Two-dimensional Rastrigin function \n",
      "        (`image source <http://www-optima.amp.i.kyoto-u.ac.jp/member/student/hedar/Hedar_files/TestGO_files/Page2607.htm>`__)\n",
      "    \n",
      "    Public Attributes:\n",
      "    \n",
      "    - *global_optimum* -- the problem input that produces the optimum output.\n",
      "      Here, this corresponds to [0, 0, ..., 0].\n",
      "    \n",
      "    \"\"\"\n",
      "    def __init__(self, dimensions=2):\n",
      "        self.dimensions=dimensions\n",
      "        self.global_optimum = [0 for _ in range(self.dimensions)]\n",
      "        \n",
      "    def generator(self, npop):\n",
      "        return [np.random.uniform(-5.12, 5.12, self.dimensions) for _ in range(npop)]\n",
      "        \n",
      "    def evaluator(self, cand):\n",
      "        fitness=(sum([x**2 - 10 * math.cos(2 * math.pi * x) + 10 for x in cand]))\n",
      "#        print \"Rastr(\",cand,\")=\",fitness                \n",
      "        return fitness\n",
      "\n",
      "    def __call__(self, cand):\n",
      "        return self.evaluator(cand)\n",
      "\n",
      "\n",
      "npop=25\n",
      "prob=Rastrigin(5)\n",
      "pop_ini=prob.generator(npop)\n",
      "\n",
      "final, score, stats=pyrace.de_rand_1_bin( pop_ini, prob, gen_max=1000, save_stats=10)\n",
      "print final\n",
      "print score\n",
      "\n",
      "idx=np.argsort(score)\n",
      "print \"Scores: \",score[idx]\n",
      "print idx\n",
      "print \"Best:  \", final[idx[0]]\n",
      "print \"Score: \", score[idx[0]]"
     ],
     "language": "python",
     "metadata": {},
     "outputs": [
      {
       "output_type": "stream",
       "stream": "stdout",
       "text": [
        "[array([ -1.52062704e-09,  -5.14139497e-10,  -4.49186851e-10,\n",
        "         7.23368086e-10,  -1.20155505e-09]), array([  8.34896060e-10,   1.80173702e-10,   3.92398868e-10,\n",
        "        -6.80594882e-10,   3.31086126e-10]), array([  1.48257378e-09,   1.08591365e-09,  -3.02809608e-10,\n",
        "        -3.55889801e-10,  -7.90305840e-10]), array([ -6.81601533e-11,  -1.59748252e-09,   6.12538057e-10,\n",
        "        -1.50865498e-09,   1.06975796e-09]), array([  6.01789851e-10,   5.75795756e-10,  -7.37571787e-11,\n",
        "        -4.56011741e-10,  -6.85299422e-10]), array([ -4.94399767e-10,  -8.57531345e-10,  -5.19474820e-10,\n",
        "        -1.22127110e-11,  -3.48923036e-10]), array([  1.34427139e-09,  -5.72603205e-10,  -1.05496942e-09,\n",
        "         1.58642477e-10,  -1.10765625e-09]), array([  6.88757915e-10,  -4.85588115e-10,   6.03920845e-10,\n",
        "        -1.09975085e-09,  -1.38571103e-09]), array([  5.88600795e-10,  -2.57735594e-10,  -1.32679142e-09,\n",
        "         9.25654651e-10,  -7.16141592e-10]), array([  5.09441342e-10,  -2.54749423e-10,   8.76314406e-10,\n",
        "        -1.17393044e-11,  -7.37362012e-10]), array([  2.32731225e-10,   2.89584351e-11,   3.19481910e-10,\n",
        "        -3.62517375e-10,  -1.36844291e-09]), array([  4.44104682e-10,   1.17550224e-09,   1.66269509e-10,\n",
        "         4.67727435e-11,  -1.13080436e-09]), array([  3.55878857e-10,  -1.42756475e-09,   4.78749501e-10,\n",
        "        -1.14433782e-09,  -6.44179944e-10]), array([ -7.56539941e-10,   7.42214178e-10,   5.65371573e-10,\n",
        "        -5.12138766e-10,  -1.11902247e-11]), array([ -6.26159541e-10,  -1.19465029e-09,  -3.86957218e-10,\n",
        "        -3.00688331e-11,  -8.87911112e-10]), array([  7.87047986e-10,  -1.63535770e-09,   1.26375367e-09,\n",
        "         1.58999358e-09,  -1.17682189e-09]), array([ -1.38955696e-09,   5.33324892e-10,   8.90221359e-11,\n",
        "         1.59515129e-09,  -7.62890833e-10]), array([  7.07327865e-10,   1.54746424e-10,   2.05909700e-10,\n",
        "        -7.30307773e-10,  -4.48872050e-10]), array([  6.70781097e-11,  -2.14286254e-10,  -8.20287642e-10,\n",
        "         9.32609764e-10,  -1.62928783e-09]), array([  9.29546590e-10,   5.94866214e-10,  -4.86969527e-11,\n",
        "         6.26411870e-10,   6.30867312e-12]), array([  7.93951880e-10,   5.92523123e-11,  -9.49613797e-10,\n",
        "         6.98717869e-10,  -1.24913624e-09]), array([ -1.16006790e-09,  -1.41194851e-09,   8.31228785e-10,\n",
        "        -4.30700496e-10,  -4.82736752e-10]), array([  8.38064792e-10,  -5.36442671e-10,  -5.97668472e-10,\n",
        "         1.08134003e-10,  -6.15122087e-10]), array([  1.36377309e-09,  -1.07178442e-09,  -9.10206200e-10,\n",
        "         7.86311577e-10,  -1.65595452e-09]), array([ -4.96104825e-10,  -8.95577878e-10,  -9.83009179e-11,\n",
        "        -1.09709940e-10,  -1.39282205e-09])]\n",
        "[ 0.  0.  0.  0.  0.  0.  0.  0.  0.  0.  0.  0.  0.  0.  0.  0.  0.  0.\n",
        "  0.  0.  0.  0.  0.  0.  0.]\n",
        "Scores:  [ 0.  0.  0.  0.  0.  0.  0.  0.  0.  0.  0.  0.  0.  0.  0.  0.  0.  0.\n",
        "  0.  0.  0.  0.  0.  0.  0.]\n",
        "[ 0 22 21 20 19 18 17 16 15 14 13 23 12 10  9  8  7  6  5  4  3  2  1 11 24]\n",
        "Best:   [ -1.52062704e-09  -5.14139497e-10  -4.49186851e-10   7.23368086e-10\n",
        "  -1.20155505e-09]\n",
        "Score:  0.0\n"
       ]
      }
     ],
     "prompt_number": 4
    },
    {
     "cell_type": "code",
     "collapsed": false,
     "input": [
      "import multiprocessing as mp\n",
      "pool=mp.Pool(4)\n",
      "final, score, stats_mp=pyrace.de_rand_1_bin_mp( pop_ini, prob, gen_max=1000, save_stats=10, pool=pool)\n",
      "\n",
      "idx=np.argsort(score)\n",
      "print \"Scores: \",score[idx]\n",
      "print idx\n",
      "print \"Best:  \", final[idx[0]]\n",
      "print \"Score: \", score[idx[0]]"
     ],
     "language": "python",
     "metadata": {},
     "outputs": [
      {
       "output_type": "stream",
       "stream": "stdout",
       "text": [
        "Scores:  [ 0.  0.  0.  0.  0.  0.  0.  0.  0.  0.  0.  0.  0.  0.  0.  0.  0.  0.\n",
        "  0.  0.  0.  0.  0.  0.  0.]\n",
        "[ 0 22 21 20 19 18 17 16 15 14 13 23 12 10  9  8  7  6  5  4  3  2  1 11 24]\n",
        "Best:   [ -8.33146983e-10   1.23556668e-09  -9.41892211e-10   1.55472708e-09\n",
        "   1.13459455e-09]\n",
        "Score:  0.0\n"
       ]
      }
     ],
     "prompt_number": 5
    },
    {
     "cell_type": "code",
     "collapsed": false,
     "input": [
      "score.shape"
     ],
     "language": "python",
     "metadata": {},
     "outputs": [
      {
       "metadata": {},
       "output_type": "pyout",
       "prompt_number": 3,
       "text": [
        "(25,)"
       ]
      }
     ],
     "prompt_number": 3
    },
    {
     "cell_type": "code",
     "collapsed": false,
     "input": [
      "import pylab as pl\n",
      "\n",
      "\n",
      "def plot_stats( stats ):\n",
      "    pl.plot( stats['generation'], stats['min'], label='min')\n",
      "    pl.plot( stats['generation'], stats['max'], label='max')\n",
      "    pl.plot( stats['generation'], stats['mean'], label='mean')\n",
      "    pl.plot( stats['generation'], stats['median'], label='median')\n",
      "    pl.legend()\n",
      "\n",
      "pl.figure(figsize=(10,5))\n",
      "plot_stats(stats)\n",
      "\n",
      "pl.figure(figsize=(10,5))\n",
      "plot_stats(stats_mp)"
     ],
     "language": "python",
     "metadata": {},
     "outputs": [
      {
       "metadata": {},
       "output_type": "display_data",
       "png": "[encoded data removed]",
       "text": [
        "<matplotlib.figure.Figure at 0x10a83cc50>"
       ]
      },
      {
       "metadata": {},
       "output_type": "display_data",
       "png": "[encoded data removed]",
       "text": [
        "<matplotlib.figure.Figure at 0x10a83c390>"
       ]
      }
     ],
     "prompt_number": 6
    },
    {
     "cell_type": "markdown",
     "metadata": {},
     "source": [
      "## test with example model"
     ]
    },
    {
     "cell_type": "code",
     "collapsed": false,
     "input": [
      "import numpy as np\n",
      "import pylab as pl\n",
      "import pandas as pd\n",
      "import pyrace\n",
      "from pyrace.models.psslba import *\n",
      "\n",
      "# consider only stimulus factor for now (later use TUT/\n",
      "factors=[{'stimulus':['left', 'right']}]\n",
      "responses=['left','right']\n",
      "design=pyrace.Design(factors,responses, 'stimulus')\n",
      "print design\n",
      "\n",
      "truepars=pSSLBA_modelA.paramspec(ster=.1,ter=.2,A=.2,Bs=.5,B=.8,Vs=2,V=1,v=0)\n",
      "\n",
      "mod=pSSLBA_modelA(design,truepars)\n",
      "dat=mod.simulate(100, upper_limit=4, name='sim')\n",
      "import multiprocessing as mp\n",
      "pool=mp.Pool(3)"
     ],
     "language": "python",
     "metadata": {},
     "outputs": [
      {
       "output_type": "stream",
       "stream": "stdout",
       "text": [
        "<Design>\n",
        " stimulus: ['left', 'right']\n",
        " --------------------\n",
        " condition 0 <-> ['left']\n",
        " condition 1 <-> ['right']\n",
        " response  0 <-> left\n",
        " response  1 <-> right\n",
        "\n"
       ]
      }
     ],
     "prompt_number": 1
    },
    {
     "cell_type": "code",
     "collapsed": false,
     "input": [
      "opt=pyrace.DEOptimizer(mod, dat, gen_max=1000, save_stats=1, trace_stats=10, xtol=.01, nxtol=100, pool=pool)\n",
      "best,score=opt.optimize()"
     ],
     "language": "python",
     "metadata": {},
     "outputs": [
      {
       "output_type": "stream",
       "stream": "stdout",
       "text": [
        "> Optimize with DEOptimizer and options {'trace_stats': 10, 'save_stats': 1, 'F': 0.5, 'gen_max': 1000, 'nxtol': 100, 'CR': 0, 'xtol': 0.01, 'ftol': None}\n",
        "DE(0): mean=5120.17, median=6580.47, range=(543.05, 7971.05)"
       ]
      },
      {
       "output_type": "stream",
       "stream": "stdout",
       "text": [
        "\n",
        "DE(10): mean=2602.94, median=1501.56, range=(485.30, 7861.60)"
       ]
      },
      {
       "output_type": "stream",
       "stream": "stdout",
       "text": [
        "\n",
        "DE(20): mean=1164.45, median=635.90, range=(342.28, 5800.57)"
       ]
      },
      {
       "output_type": "stream",
       "stream": "stdout",
       "text": [
        "\n",
        "DE(30): mean=667.92, median=478.56, range=(326.81, 4993.85)"
       ]
      },
      {
       "output_type": "stream",
       "stream": "stdout",
       "text": [
        "\n",
        "DE(40): mean=421.87, median=412.78, range=(326.16, 692.52)"
       ]
      },
      {
       "output_type": "stream",
       "stream": "stdout",
       "text": [
        "\n",
        "DE(50): mean=384.07, median=387.35, range=(323.40, 453.38)"
       ]
      },
      {
       "output_type": "stream",
       "stream": "stdout",
       "text": [
        "\n",
        "DE(60): mean=372.36, median=365.34, range=(316.93, 447.63)"
       ]
      },
      {
       "output_type": "stream",
       "stream": "stdout",
       "text": [
        "\n",
        "DE(70): mean=359.95, median=353.07, range=(316.70, 440.36)"
       ]
      },
      {
       "output_type": "stream",
       "stream": "stdout",
       "text": [
        "\n",
        "DE(80): mean=351.67, median=341.96, range=(316.70, 430.18)"
       ]
      },
      {
       "output_type": "stream",
       "stream": "stdout",
       "text": [
        "\n",
        "DE(90): mean=344.35, median=340.75, range=(313.86, 403.81)"
       ]
      },
      {
       "output_type": "stream",
       "stream": "stdout",
       "text": [
        "\n",
        "DE(100): mean=340.72, median=336.23, range=(313.86, 403.81)"
       ]
      },
      {
       "output_type": "stream",
       "stream": "stdout",
       "text": [
        "\n",
        "DE(110): mean=339.70, median=335.77, range=(313.86, 403.80)"
       ]
      },
      {
       "output_type": "stream",
       "stream": "stdout",
       "text": [
        "\n",
        "DE(120): mean=337.93, median=334.51, range=(313.86, 403.80)"
       ]
      },
      {
       "output_type": "stream",
       "stream": "stdout",
       "text": [
        "\n",
        "DE(130): mean=335.66, median=333.35, range=(313.86, 403.04)"
       ]
      },
      {
       "output_type": "stream",
       "stream": "stdout",
       "text": [
        "\n",
        "DE(140): mean=332.90, median=330.82, range=(313.63, 383.62)"
       ]
      },
      {
       "output_type": "stream",
       "stream": "stdout",
       "text": [
        "\n",
        "DE(150): mean=331.21, median=330.31, range=(313.55, 383.62)"
       ]
      },
      {
       "output_type": "stream",
       "stream": "stdout",
       "text": [
        "\n",
        "DE(160): mean=330.40, median=328.23, range=(313.38, 383.62)"
       ]
      },
      {
       "output_type": "stream",
       "stream": "stdout",
       "text": [
        "\n",
        "DE(170): mean=328.86, median=326.08, range=(313.19, 383.62)"
       ]
      },
      {
       "output_type": "stream",
       "stream": "stdout",
       "text": [
        "\n",
        "DE(180): mean=327.82, median=325.92, range=(313.19, 383.62)"
       ]
      },
      {
       "output_type": "stream",
       "stream": "stdout",
       "text": [
        "\n",
        "DE(190): mean=327.17, median=321.41, range=(313.15, 383.62)"
       ]
      },
      {
       "output_type": "stream",
       "stream": "stdout",
       "text": [
        "\n",
        "DE(200): mean=326.14, median=321.41, range=(313.15, 383.62)"
       ]
      },
      {
       "output_type": "stream",
       "stream": "stdout",
       "text": [
        "\n",
        "DE(210): mean=325.17, median=321.33, range=(313.12, 383.62)"
       ]
      },
      {
       "output_type": "stream",
       "stream": "stdout",
       "text": [
        "\n",
        "DE(220): mean=324.29, median=321.33, range=(313.07, 383.62)"
       ]
      },
      {
       "output_type": "stream",
       "stream": "stdout",
       "text": [
        "\n",
        "DE(230): mean=322.97, median=320.59, range=(313.07, 383.62)"
       ]
      },
      {
       "output_type": "stream",
       "stream": "stdout",
       "text": [
        "\n",
        "DE(240): mean=322.63, median=319.19, range=(312.90, 383.62)"
       ]
      },
      {
       "output_type": "stream",
       "stream": "stdout",
       "text": [
        "\n",
        "DE(250): mean=322.07, median=318.57, range=(312.90, 383.62)"
       ]
      },
      {
       "output_type": "stream",
       "stream": "stdout",
       "text": [
        "\n",
        "DE(260): mean=321.67, median=317.19, range=(312.90, 383.62)"
       ]
      },
      {
       "output_type": "stream",
       "stream": "stdout",
       "text": [
        "\n",
        "DE(270): mean=321.17, median=316.69, range=(311.93, 383.62)"
       ]
      },
      {
       "output_type": "stream",
       "stream": "stdout",
       "text": [
        "\n",
        "DE(280): mean=320.89, median=316.40, range=(311.93, 380.67)"
       ]
      },
      {
       "output_type": "stream",
       "stream": "stdout",
       "text": [
        "\n",
        "DE(290): mean=320.14, median=315.91, range=(311.48, 365.60)"
       ]
      },
      {
       "output_type": "stream",
       "stream": "stdout",
       "text": [
        "\n",
        "DE(300): mean=319.86, median=315.91, range=(311.48, 362.08)"
       ]
      },
      {
       "output_type": "stream",
       "stream": "stdout",
       "text": [
        "\n",
        "DE(310): mean=319.57, median=315.57, range=(311.42, 357.83)"
       ]
      },
      {
       "output_type": "stream",
       "stream": "stdout",
       "text": [
        "\n",
        "DE(320): mean=319.37, median=315.57, range=(311.42, 357.57)"
       ]
      },
      {
       "output_type": "stream",
       "stream": "stdout",
       "text": [
        "\n",
        "DE(330): mean=319.33, median=315.35, range=(311.42, 357.57)"
       ]
      },
      {
       "output_type": "stream",
       "stream": "stdout",
       "text": [
        "\n",
        "DE(340): mean=319.23, median=315.35, range=(311.42, 355.31)"
       ]
      },
      {
       "output_type": "stream",
       "stream": "stdout",
       "text": [
        "\n",
        "DE(350): mean=319.01, median=315.35, range=(311.42, 354.42)"
       ]
      },
      {
       "output_type": "stream",
       "stream": "stdout",
       "text": [
        "\n",
        "DE(360): mean=318.90, median=315.35, range=(311.42, 354.42)"
       ]
      },
      {
       "output_type": "stream",
       "stream": "stdout",
       "text": [
        "\n",
        "DE(370): mean=318.64, median=315.25, range=(311.42, 354.42)"
       ]
      },
      {
       "output_type": "stream",
       "stream": "stdout",
       "text": [
        "\n",
        "DE(380): mean=318.59, median=315.25, range=(310.83, 354.42)"
       ]
      },
      {
       "output_type": "stream",
       "stream": "stdout",
       "text": [
        "\n",
        "DE(390): mean=318.45, median=315.25, range=(310.83, 351.07)"
       ]
      },
      {
       "output_type": "stream",
       "stream": "stdout",
       "text": [
        "\n",
        "DE(400): mean=318.13, median=315.25, range=(310.78, 351.07)"
       ]
      },
      {
       "output_type": "stream",
       "stream": "stdout",
       "text": [
        "\n",
        "DE(410): mean=317.89, median=315.25, range=(310.77, 351.07)"
       ]
      },
      {
       "output_type": "stream",
       "stream": "stdout",
       "text": [
        "\n",
        "DE(420): mean=317.71, median=315.25, range=(310.77, 351.07)"
       ]
      },
      {
       "output_type": "stream",
       "stream": "stdout",
       "text": [
        "\n",
        "DE(430): mean=317.67, median=315.24, range=(310.77, 351.07)"
       ]
      },
      {
       "output_type": "stream",
       "stream": "stdout",
       "text": [
        "\n",
        "DE(440): mean=317.58, median=315.17, range=(310.75, 351.07)"
       ]
      },
      {
       "output_type": "stream",
       "stream": "stdout",
       "text": [
        "\n",
        "DE(450): mean=317.54, median=314.90, range=(310.75, 351.07)"
       ]
      },
      {
       "output_type": "stream",
       "stream": "stdout",
       "text": [
        "\n",
        "DE(460): mean=317.46, median=314.85, range=(310.75, 351.07)"
       ]
      },
      {
       "output_type": "stream",
       "stream": "stdout",
       "text": [
        "\n",
        "DE(470): mean=317.42, median=314.85, range=(310.75, 351.07)"
       ]
      },
      {
       "output_type": "stream",
       "stream": "stdout",
       "text": [
        "\n",
        "DE(480): mean=317.41, median=314.85, range=(310.75, 351.07)"
       ]
      },
      {
       "output_type": "stream",
       "stream": "stdout",
       "text": [
        "\n",
        "DE(490): mean=317.30, median=314.61, range=(310.75, 349.74)"
       ]
      },
      {
       "output_type": "stream",
       "stream": "stdout",
       "text": [
        "\n",
        "DE(500): mean=317.25, median=314.52, range=(310.75, 349.74)"
       ]
      },
      {
       "output_type": "stream",
       "stream": "stdout",
       "text": [
        "\n",
        "DE(510): mean=317.23, median=314.38, range=(310.75, 349.53)"
       ]
      },
      {
       "output_type": "stream",
       "stream": "stdout",
       "text": [
        "\n",
        "DE(520): mean=317.13, median=314.38, range=(310.75, 348.36)"
       ]
      },
      {
       "output_type": "stream",
       "stream": "stdout",
       "text": [
        "\n",
        "DE(530): mean=317.13, median=314.38, range=(310.75, 348.36)"
       ]
      },
      {
       "output_type": "stream",
       "stream": "stdout",
       "text": [
        "\n",
        "DE(540): mean=315.59, median=314.30, range=(310.19, 332.28)"
       ]
      },
      {
       "output_type": "stream",
       "stream": "stdout",
       "text": [
        "\n",
        "DE(550): mean=315.58, median=314.30, range=(310.18, 332.10)"
       ]
      }
     ],
     "prompt_number": "*"
    },
    {
     "cell_type": "code",
     "collapsed": false,
     "input": [
      "opt.plot_stats()\n",
      "\n",
      "pl.figure(figsize=(10,5))\n",
      "pyrace.plot_bar_parameters(best, truepars)"
     ],
     "language": "python",
     "metadata": {},
     "outputs": [
      {
       "metadata": {},
       "output_type": "display_data",
       "png": "[encoded data removed]",
       "text": [
        "<matplotlib.figure.Figure at 0x106ab5790>"
       ]
      },
      {
       "metadata": {},
       "output_type": "display_data",
       "png": "[encoded data removed]",
       "text": [
        "<matplotlib.figure.Figure at 0x106ab5850>"
       ]
      }
     ],
     "prompt_number": 3
    }
   ],
   "metadata": {}
  }
 ]
}