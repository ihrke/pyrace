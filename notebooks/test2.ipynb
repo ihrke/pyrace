{
 "metadata": {
  "name": ""
 },
 "nbformat": 3,
 "nbformat_minor": 0,
 "worksheets": [
  {
   "cells": [
    {
     "cell_type": "code",
     "collapsed": false,
     "input": [
      "import pyrace\n",
      "import numpy as np\n",
      "import pylab as pl\n",
      "import pandas as pd\n",
      "import pyrace\n",
      "import sys, os\n",
      "import shelve\n",
      "\n",
      "factors=[{'deprivation':['control','sleep']},\n",
      "         {'stimulus':['left', 'right']}]\n",
      "responses=['left','right']\n",
      "design=pyrace.Design(factors,responses, 'stimulus')\n",
      "print design\n"
     ],
     "language": "python",
     "metadata": {},
     "outputs": []
    },
    {
     "cell_type": "code",
     "collapsed": false,
     "input": [
      "class parspec(pyrace.Parameters):\n",
      "    parnames=['ter', 'A', 'B', 'V', 'v']\n",
      "    lower=[0, 0, 0, -5, -5]\n",
      "    upper=[1, 4, 5, 5, 5]\n",
      "    \n",
      "class Testmod(pyrace.pSSLBA):\n",
      "    paramspec=parspec;\n",
      "    def __init__(self,design):\n",
      "        self.design=design\n",
      "        self.sv=1.0\n",
      "        self.set_mixing_probabilities(0,0)\n",
      "        self.set_params(self.paramspec().random())\n",
      "    def set_params(self,pars):\n",
      "        self.params=pars\n",
      "        go_acc=[]\n",
      "        stop_acc=[]\n",
      "        for cond in range(self.design.nconditions()):\n",
      "            go_acc.append( [pyrace.LBAAccumulator(pars.ter, pars.A, pars.V, self.sv, pars.A+pars.B)\n",
      "                            for resp in self.design.get_responses()])\n",
      "            stop_acc.append(pyrace.LBAAccumulator(pars.ter, pars.A, pars.V, self.sv, pars.A+pars.B))\n",
      "        self.set_accumulators(go_acc, stop_acc)\n",
      "\n",
      "mod=Testmod(design)\n",
      "print mod"
     ],
     "language": "python",
     "metadata": {},
     "outputs": []
    },
    {
     "cell_type": "code",
     "collapsed": false,
     "input": [
      "mod.plot_model()"
     ],
     "language": "python",
     "metadata": {},
     "outputs": []
    }
   ],
   "metadata": {}
  }
 ]
}